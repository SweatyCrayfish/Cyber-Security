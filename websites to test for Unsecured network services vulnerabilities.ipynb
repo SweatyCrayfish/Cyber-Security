{
 "cells": [
  {
   "cell_type": "code",
   "execution_count": null,
   "id": "01787fcf",
   "metadata": {},
   "outputs": [],
   "source": [
    "# Import the necessary libraries\n",
    "import requests\n",
    "import socket\n",
    "\n",
    "# Set the list of websites to test\n",
    "websites = [\n",
    "  \"http://www.example.com\",\n",
    "  \"http://www.example.org\",\n",
    "  \"http://www.example.net\",\n",
    "]\n",
    "\n",
    "# Define a function to test for unsecured network services\n",
    "def test_services(url):\n",
    "  # Get the hostname and IP address of the website\n",
    "  hostname = url.split(\"/\")[2]\n",
    "  ip_address = socket.gethostbyname(hostname)\n",
    "  \n",
    "  # Test for common network services on the website\n",
    "  for port in [80, 443, 22, 23, 25, 53, 110, 143, 389, 3306, 5432]:\n",
    "    try:\n",
    "      # Connect to the service and check if it's accessible\n",
    "      s = socket.create_connection((ip_address, port), timeout=0.5)\n",
    "      s.close()\n",
    "      print(\"Service running on port\", port, \":\", url)\n",
    "    except:\n",
    "      pass\n",
    "\n",
    "# Test for unsecured network services on each website\n",
    "for website in websites:\n",
    "  test_services(website)\n"
   ]
  },
  {
   "cell_type": "markdown",
   "id": "d9fe5369",
   "metadata": {},
   "source": [
    "This script will test a list of websites for unsecured network services by connecting to each website and checking if common network services are accessible. If a service is accessible, it indicates that the website is potentially vulnerable to attacks on that service.\n",
    "\n",
    "You can modify the websites list to specify the websites you want to test. You can also modify the port list to test for different types of network services. Note that this script uses a timeout of 0.5 seconds for each connection, so it may not detect all network services that are running on the websites."
   ]
  },
  {
   "cell_type": "code",
   "execution_count": null,
   "id": "7830f2bc",
   "metadata": {},
   "outputs": [],
   "source": []
  }
 ],
 "metadata": {
  "kernelspec": {
   "display_name": "Python 3 (ipykernel)",
   "language": "python",
   "name": "python3"
  },
  "language_info": {
   "codemirror_mode": {
    "name": "ipython",
    "version": 3
   },
   "file_extension": ".py",
   "mimetype": "text/x-python",
   "name": "python",
   "nbconvert_exporter": "python",
   "pygments_lexer": "ipython3",
   "version": "3.9.12"
  }
 },
 "nbformat": 4,
 "nbformat_minor": 5
}
