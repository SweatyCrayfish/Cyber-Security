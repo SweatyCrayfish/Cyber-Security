{
 "cells": [
  {
   "cell_type": "code",
   "execution_count": null,
   "id": "8e05e1af",
   "metadata": {},
   "outputs": [],
   "source": [
    "# Import the necessary libraries\n",
    "import requests\n",
    "\n",
    "# Define a function to test for CSRF vulnerabilities\n",
    "def test_csrf(url):\n",
    "  # Generate a random CSRF token\n",
    "  csrf_token = \"\".join([chr(ord(\"a\") + i) for i in range(32)])\n",
    "  \n",
    "  # Set the CSRF token in a cookie\n",
    "  cookies = {\"csrf_token\": csrf_token}\n",
    "  \n",
    "  # Send a request to the website with the CSRF token\n",
    "  r = requests.get(url, cookies=cookies)\n",
    "  \n",
    "  # Check if the CSRF token is returned in the response\n",
    "  if csrf_token in r.text:\n",
    "    print(\"Not vulnerable:\", url)\n",
    "  else:\n",
    "    print(\"Vulnerable to CSRF:\", url)\n",
    "\n",
    "# Set the list of websites to test\n",
    "urls = [\n",
    "  \"http://www.example.com\",\n",
    "  \"http://www.example.org\",\n",
    "  \"http://www.example.net\",\n",
    "]\n",
    "\n",
    "# Test for CSRF vulnerabilities on each website\n",
    "for url in urls:\n",
    "  test_csrf(url)\n"
   ]
  },
  {
   "cell_type": "markdown",
   "id": "4abf48cf",
   "metadata": {},
   "source": [
    "This script will test a list of websites for CSRF vulnerabilities by sending requests to the websites with a random CSRF token and checking if the token is returned in the response. If the token is returned in the response, it indicates that the website is not vulnerable to CSRF. Otherwise, it indicates that the website is vulnerable.\n",
    "\n",
    "You can modify the urls list to specify the websites you want to test. You can also modify the csrf_token variable to specify a different token to use in the requests. Note that this script assumes that the website is using cookies to store the CSRF token."
   ]
  },
  {
   "cell_type": "code",
   "execution_count": null,
   "id": "c803606e",
   "metadata": {},
   "outputs": [],
   "source": []
  }
 ],
 "metadata": {
  "kernelspec": {
   "display_name": "Python 3 (ipykernel)",
   "language": "python",
   "name": "python3"
  },
  "language_info": {
   "codemirror_mode": {
    "name": "ipython",
    "version": 3
   },
   "file_extension": ".py",
   "mimetype": "text/x-python",
   "name": "python",
   "nbconvert_exporter": "python",
   "pygments_lexer": "ipython3",
   "version": "3.9.12"
  }
 },
 "nbformat": 4,
 "nbformat_minor": 5
}
