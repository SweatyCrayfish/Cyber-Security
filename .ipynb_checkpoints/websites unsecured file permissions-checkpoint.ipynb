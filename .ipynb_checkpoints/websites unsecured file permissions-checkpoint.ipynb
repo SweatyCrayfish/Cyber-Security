{
 "cells": [
  {
   "cell_type": "code",
   "execution_count": null,
   "id": "05fba11e",
   "metadata": {},
   "outputs": [],
   "source": [
    "# Import the necessary libraries\n",
    "import requests\n",
    "import os\n",
    "\n",
    "# Set the list of websites to test\n",
    "websites = [\n",
    "  \"http://www.example.com\",\n",
    "  \"http://www.example.org\",\n",
    "  \"http://www.example.net\",\n",
    "]\n",
    "\n",
    "# Set the file to upload\n",
    "file = \"test.txt\"\n",
    "\n",
    "# Define a function to test for unsecured file permissions\n",
    "def test_file_permissions(url):\n",
    "  # Set the URL of the file upload form\n",
    "  upload_url = url + \"/upload\"\n",
    "  \n",
    "  # Set the headers for the request\n",
    "  headers = {\n",
    "    \"Content-Type\": \"multipart/form-data\"\n",
    "  }\n",
    "  \n",
    "  # Set the data for the request\n",
    "  data = {\n",
    "    \"file\": (file, open(file, \"rb\"))\n",
    "  }\n",
    "  \n",
    "  # Upload the file to the website\n",
    "  r = requests.post(upload_url, headers=headers, data=data)\n",
    "  \n",
    "  # Check if the file was uploaded successfully\n",
    "  if r.status_code == 200:\n",
    "    print(\"Vulnerable to unsecured file permissions:\", url)\n",
    "  else:\n",
    "    print(\"Not vulnerable:\", url)\n",
    "\n",
    "# Test for unsecured file permissions on each website\n",
    "for website in websites:\n",
    "  test_file_permissions(website)\n"
   ]
  },
  {
   "cell_type": "markdown",
   "id": "9bd279f0",
   "metadata": {},
   "source": [
    "This script will test a list of websites for unsecured file permissions by uploading a test file to each website and checking if the file was successfully uploaded. If the file was uploaded successfully, it indicates that the website has unsecured file permissions and is vulnerable to attacks. Otherwise, it indicates that the website has secure file permissions.\n",
    "\n",
    "You can modify the websites and file variables to specify the list of websites and the file you want to test. Note that this script assumes that each website has a file upload form at the URL /upload that accepts files with the multipart/form-data content type. You may need to modify the script to match the specific file upload form on each website."
   ]
  },
  {
   "cell_type": "code",
   "execution_count": null,
   "id": "f24f8111",
   "metadata": {},
   "outputs": [],
   "source": []
  }
 ],
 "metadata": {
  "kernelspec": {
   "display_name": "Python 3 (ipykernel)",
   "language": "python",
   "name": "python3"
  },
  "language_info": {
   "codemirror_mode": {
    "name": "ipython",
    "version": 3
   },
   "file_extension": ".py",
   "mimetype": "text/x-python",
   "name": "python",
   "nbconvert_exporter": "python",
   "pygments_lexer": "ipython3",
   "version": "3.9.12"
  }
 },
 "nbformat": 4,
 "nbformat_minor": 5
}
