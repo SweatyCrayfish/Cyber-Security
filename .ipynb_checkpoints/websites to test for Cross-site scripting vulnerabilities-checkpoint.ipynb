{
 "cells": [
  {
   "cell_type": "code",
   "execution_count": null,
   "id": "fb700232",
   "metadata": {},
   "outputs": [],
   "source": [
    "# Import the necessary libraries\n",
    "import requests\n",
    "\n",
    "# Set the list of websites to test\n",
    "websites = [\n",
    "  \"http://www.example.com\",\n",
    "  \"http://www.example.org\",\n",
    "  \"http://www.example.net\",\n",
    "]\n",
    "\n",
    "# Define a function to test for XSS vulnerabilities\n",
    "def test_xss(url):\n",
    "  # Make a request to the website with a sample XSS payload\n",
    "  r = requests.get(url, params={\"q\": \"<script>alert('XSS')</script>\"})\n",
    "  \n",
    "  # Check if the response contains the XSS payload\n",
    "  if \"<script>alert('XSS')</script>\" in r.text:\n",
    "    print(\"Vulnerable to XSS:\", url)\n",
    "  else:\n",
    "    print(\"Not vulnerable:\", url)\n",
    "\n",
    "# Test for XSS on each website\n",
    "for website in websites:\n",
    "  test_xss(website)\n"
   ]
  }
 ],
 "metadata": {
  "kernelspec": {
   "display_name": "Python 3 (ipykernel)",
   "language": "python",
   "name": "python3"
  },
  "language_info": {
   "codemirror_mode": {
    "name": "ipython",
    "version": 3
   },
   "file_extension": ".py",
   "mimetype": "text/x-python",
   "name": "python",
   "nbconvert_exporter": "python",
   "pygments_lexer": "ipython3",
   "version": "3.9.12"
  }
 },
 "nbformat": 4,
 "nbformat_minor": 5
}
